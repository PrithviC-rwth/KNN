{
 "cells": [
  {
   "cell_type": "code",
   "execution_count": 31,
   "metadata": {},
   "outputs": [],
   "source": [
    "import numpy as np\n",
    "from sklearn import preprocessing,neighbors\n",
    "import pandas as pd\n",
    "from sklearn.model_selection import train_test_split"
   ]
  },
  {
   "cell_type": "code",
   "execution_count": 41,
   "metadata": {},
   "outputs": [],
   "source": [
    "df = pd.read_csv('breast-cancer-wisconsin.data')\n",
    "df.replace('?', -99999, inplace = True)\n",
    "#in place of the incomplete data, -99999 will denote the program that its an outlier\n",
    "df.drop(['id'], 1, inplace = True)\n",
    "#Dropping the first column as it is not a data attribute\n",
    "#KNN is not good with Outliers\n"
   ]
  },
  {
   "cell_type": "code",
   "execution_count": 49,
   "metadata": {},
   "outputs": [
    {
     "name": "stdout",
     "output_type": "stream",
     "text": [
      "0.9785714285714285\n"
     ]
    }
   ],
   "source": [
    "X = np.array(df.drop(['class'], 1))\n",
    "#Every attribute except the class\n",
    "y = np.array(df['class'])\n",
    "#the last column\n",
    "\n",
    "X_train, X_test, y_train, y_test = train_test_split(X,y, test_size = 0.2)\n",
    "#Separating the data and shuffling it\n",
    "\n",
    "clf = neighbors.KNeighborsClassifier()\n",
    "#KNN Classifier- in built\n",
    "clf.fit(X_train, y_train)\n",
    "\n",
    "#Inbuilt functions\n",
    "accuracy = clf.score(X_test, y_test)\n",
    "print(accuracy)\n"
   ]
  },
  {
   "cell_type": "code",
   "execution_count": 50,
   "metadata": {},
   "outputs": [
    {
     "name": "stdout",
     "output_type": "stream",
     "text": [
      "[2 2]\n"
     ]
    }
   ],
   "source": [
    "examples_measure = np.array([[4,2,1,1,1,2,3,2,1], [3,2,1,1,2,2,3,4,1]])\n",
    "examples_measure = examples_measure.reshape(len(examples_measure), -1)\n",
    "\n",
    "#Common function any scikit classifiers\n",
    "prediction = clf.predict(examples_measure)\n",
    "print(prediction)"
   ]
  },
  {
   "cell_type": "code",
   "execution_count": null,
   "metadata": {},
   "outputs": [],
   "source": []
  }
 ],
 "metadata": {
  "kernelspec": {
   "display_name": "Python 3",
   "language": "python",
   "name": "python3"
  },
  "language_info": {
   "codemirror_mode": {
    "name": "ipython",
    "version": 3
   },
   "file_extension": ".py",
   "mimetype": "text/x-python",
   "name": "python",
   "nbconvert_exporter": "python",
   "pygments_lexer": "ipython3",
   "version": "3.7.4"
  }
 },
 "nbformat": 4,
 "nbformat_minor": 2
}
